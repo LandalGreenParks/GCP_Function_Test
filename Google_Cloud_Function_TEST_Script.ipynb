{
  "nbformat": 4,
  "nbformat_minor": 0,
  "metadata": {
    "colab": {
      "name": "Google Cloud Function TEST Script",
      "provenance": [],
      "collapsed_sections": [],
      "toc_visible": true,
      "authorship_tag": "ABX9TyOyJU8pjiK7Dchtc87fdT5v",
      "include_colab_link": true
    },
    "kernelspec": {
      "name": "python3",
      "display_name": "Python 3"
    }
  },
  "cells": [
    {
      "cell_type": "markdown",
      "metadata": {
        "id": "view-in-github",
        "colab_type": "text"
      },
      "source": [
        "<a href=\"https://colab.research.google.com/github/MarkTijssen/GCP_Function_Test/blob/master/Google_Cloud_Function_TEST_Script.ipynb\" target=\"_parent\"><img src=\"https://colab.research.google.com/assets/colab-badge.svg\" alt=\"Open In Colab\"/></a>"
      ]
    },
    {
      "cell_type": "code",
      "metadata": {
        "id": "LcIfRjlRib2y",
        "colab_type": "code",
        "colab": {}
      },
      "source": [
        ""
      ],
      "execution_count": 0,
      "outputs": []
    },
    {
      "cell_type": "markdown",
      "metadata": {
        "id": "mjNNFfzfigCK",
        "colab_type": "text"
      },
      "source": [
        "# Introduction\n",
        "\n",
        "this test script will push a test text to Google Sheets every 1 second and after 10 times it will clear the sheet and start over. This is used to see if the Google Cloud Function will run continously. "
      ]
    },
    {
      "cell_type": "code",
      "metadata": {
        "id": "xkw0Y10Ei21U",
        "colab_type": "code",
        "colab": {}
      },
      "source": [
        ""
      ],
      "execution_count": 0,
      "outputs": []
    },
    {
      "cell_type": "code",
      "metadata": {
        "id": "2e35ielki583",
        "colab_type": "code",
        "colab": {}
      },
      "source": [
        "!pip install --upgrade -q gspread"
      ],
      "execution_count": 0,
      "outputs": []
    },
    {
      "cell_type": "code",
      "metadata": {
        "id": "8_rl3OH7i58i",
        "colab_type": "code",
        "colab": {}
      },
      "source": [
        "from google.colab import auth\n",
        "auth.authenticate_user()\n",
        "import time\n"
      ],
      "execution_count": 0,
      "outputs": []
    },
    {
      "cell_type": "code",
      "metadata": {
        "id": "mPrclPLoi_d3",
        "colab_type": "code",
        "colab": {}
      },
      "source": [
        "import gspread\n",
        "from oauth2client.client import GoogleCredentials\n",
        "\n",
        "gc = gspread.authorize(GoogleCredentials.get_application_default())\n"
      ],
      "execution_count": 0,
      "outputs": []
    },
    {
      "cell_type": "code",
      "metadata": {
        "id": "VJDIGz7NnxhP",
        "colab_type": "code",
        "colab": {}
      },
      "source": [
        "def clear_worksheet(ws):\n",
        "\n",
        "  cell_list = ws.range(\"A1:C100\")\n",
        "  for cell in cell_list:\n",
        "    cell.value = ''\n",
        "  ws.update_cells(cell_list)"
      ],
      "execution_count": 0,
      "outputs": []
    },
    {
      "cell_type": "code",
      "metadata": {
        "id": "afdlW_MSjWq9",
        "colab_type": "code",
        "colab": {}
      },
      "source": [
        "\n",
        "def updateSheet(cnt):\n",
        "  # sh = gc.create('A new spreadsheet')\n",
        "  test_text = f\"This is a Test: {cnt}\"\n",
        "  # Open our new sheet and add some data.\n",
        "  worksheet = gc.open('GCP - Cloud Function TEST Sheet').sheet1\n",
        "\n",
        "  worksheet.update_acell(f'A{cnt+1}', test_text)\n",
        "\n",
        "  # Go to https://sheets.google.com to see your new spreadsheet."
      ],
      "execution_count": 0,
      "outputs": []
    },
    {
      "cell_type": "code",
      "metadata": {
        "id": "OpdN3yKkjdbf",
        "colab_type": "code",
        "colab": {}
      },
      "source": [
        "def run(event):\n",
        "  cnt = 0\n",
        "  totCnt = 0\n",
        "  while True:\n",
        "    cnt = cnt+1\n",
        "    if cnt%10==0:\n",
        "      worksheet = gc.open('GCP - Cloud Function TEST Sheet').sheet1\n",
        "      clear_worksheet(worksheet)\n",
        "      totCnt += 1 \n",
        "      worksheet.update_acell(\"C5\", f\"total loops: {totCnt}\")\n",
        "      cnt=0\n",
        "    # print(cnt)\n",
        "    updateSheet(cnt)\n",
        "    \n",
        "    \n",
        "    time.sleep(1)\n",
        "    "
      ],
      "execution_count": 0,
      "outputs": []
    },
    {
      "cell_type": "code",
      "metadata": {
        "id": "btuvXPS9o8Jc",
        "colab_type": "code",
        "colab": {}
      },
      "source": [
        ""
      ],
      "execution_count": 0,
      "outputs": []
    },
    {
      "cell_type": "code",
      "metadata": {
        "id": "TIodGFM6kxmY",
        "colab_type": "code",
        "colab": {}
      },
      "source": [
        ""
      ],
      "execution_count": 0,
      "outputs": []
    },
    {
      "cell_type": "code",
      "metadata": {
        "id": "HMubWULupB_A",
        "colab_type": "code",
        "colab": {}
      },
      "source": [
        ""
      ],
      "execution_count": 0,
      "outputs": []
    }
  ]
}