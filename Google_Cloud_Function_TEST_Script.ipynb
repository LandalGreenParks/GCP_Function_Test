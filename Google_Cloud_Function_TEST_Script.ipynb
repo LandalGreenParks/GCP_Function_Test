{
  "nbformat": 4,
  "nbformat_minor": 0,
  "metadata": {
    "colab": {
      "name": "Google Cloud Function TEST Script",
      "provenance": [],
      "collapsed_sections": [],
      "toc_visible": true,
      "include_colab_link": true
    },
    "kernelspec": {
      "name": "python3",
      "display_name": "Python 3"
    }
  },
  "cells": [
    {
      "cell_type": "markdown",
      "metadata": {
        "id": "view-in-github",
        "colab_type": "text"
      },
      "source": [
        "<a href=\"https://colab.research.google.com/github/LandalGreenParks/GCP_Function_Test/blob/master/Google_Cloud_Function_TEST_Script.ipynb\" target=\"_parent\"><img src=\"https://colab.research.google.com/assets/colab-badge.svg\" alt=\"Open In Colab\"/></a>"
      ]
    },
    {
      "cell_type": "code",
      "metadata": {
        "id": "LcIfRjlRib2y"
      },
      "source": [
        ""
      ],
      "execution_count": null,
      "outputs": []
    },
    {
      "cell_type": "markdown",
      "metadata": {
        "id": "mjNNFfzfigCK"
      },
      "source": [
        "# Introduction\n",
        "\n",
        "this test script will push a test text to Google Sheets every 1 second and after 10 times it will clear the sheet and start over. This is used to see if the Google Cloud Function will run continously. "
      ]
    },
    {
      "cell_type": "code",
      "metadata": {
        "id": "xkw0Y10Ei21U"
      },
      "source": [
        ""
      ],
      "execution_count": null,
      "outputs": []
    },
    {
      "cell_type": "code",
      "metadata": {
        "id": "2e35ielki583"
      },
      "source": [
        "!pip install --upgrade -q gspread"
      ],
      "execution_count": null,
      "outputs": []
    },
    {
      "cell_type": "code",
      "metadata": {
        "id": "8_rl3OH7i58i"
      },
      "source": [
        "from google.colab import auth\n",
        "auth.authenticate_user()\n",
        "import time\n"
      ],
      "execution_count": null,
      "outputs": []
    },
    {
      "cell_type": "code",
      "metadata": {
        "id": "mPrclPLoi_d3"
      },
      "source": [
        "import gspread\n",
        "from oauth2client.client import GoogleCredentials\n",
        "\n",
        "gc = gspread.authorize(GoogleCredentials.get_application_default())\n"
      ],
      "execution_count": null,
      "outputs": []
    },
    {
      "cell_type": "code",
      "metadata": {
        "id": "VJDIGz7NnxhP"
      },
      "source": [
        "def clear_worksheet(ws):\n",
        "\n",
        "  cell_list = ws.range(\"A1:C100\")\n",
        "  for cell in cell_list:\n",
        "    cell.value = ''\n",
        "  ws.update_cells(cell_list)"
      ],
      "execution_count": null,
      "outputs": []
    },
    {
      "cell_type": "code",
      "metadata": {
        "id": "afdlW_MSjWq9"
      },
      "source": [
        "\n",
        "def updateSheet(cnt):\n",
        "  # sh = gc.create('A new spreadsheet')\n",
        "  test_text = f\"This is a Test: {cnt}\"\n",
        "  # Open our new sheet and add some data.\n",
        "  worksheet = gc.open('GCP - Cloud Function TEST Sheet').sheet1\n",
        "\n",
        "  worksheet.update_acell(f'A{cnt+1}', test_text)\n",
        "\n",
        "  # Go to https://sheets.google.com to see your new spreadsheet."
      ],
      "execution_count": null,
      "outputs": []
    },
    {
      "cell_type": "code",
      "metadata": {
        "id": "OpdN3yKkjdbf"
      },
      "source": [
        "def run(event):\n",
        "  cnt = 0\n",
        "  totCnt = 0\n",
        "  while True:\n",
        "    cnt = cnt+1\n",
        "    if cnt%10==0:\n",
        "      worksheet = gc.open('GCP - Cloud Function TEST Sheet').sheet1\n",
        "      clear_worksheet(worksheet)\n",
        "      totCnt += 1 \n",
        "      worksheet.update_acell(\"C5\", f\"total loops: {totCnt}\")\n",
        "      cnt=0\n",
        "    # print(cnt)\n",
        "    updateSheet(cnt)\n",
        "    \n",
        "    \n",
        "    time.sleep(1)\n",
        "    "
      ],
      "execution_count": null,
      "outputs": []
    },
    {
      "cell_type": "code",
      "metadata": {
        "id": "btuvXPS9o8Jc"
      },
      "source": [
        ""
      ],
      "execution_count": null,
      "outputs": []
    },
    {
      "cell_type": "code",
      "metadata": {
        "id": "TIodGFM6kxmY"
      },
      "source": [
        ""
      ],
      "execution_count": null,
      "outputs": []
    },
    {
      "cell_type": "code",
      "metadata": {
        "id": "RRFrtW-yVLrp"
      },
      "source": [
        ""
      ],
      "execution_count": null,
      "outputs": []
    },
    {
      "cell_type": "code",
      "metadata": {
        "id": "HMubWULupB_A"
      },
      "source": [
        "def test(message='test'):\r\n",
        "  print(message)"
      ],
      "execution_count": 1,
      "outputs": []
    },
    {
      "cell_type": "code",
      "metadata": {
        "colab": {
          "base_uri": "https://localhost:8080/"
        },
        "id": "4Rxm8XfrVQ8A",
        "outputId": "1ff412fe-b590-4319-b9c0-33308815363e"
      },
      "source": [
        "test()"
      ],
      "execution_count": 2,
      "outputs": [
        {
          "output_type": "stream",
          "text": [
            "test\n"
          ],
          "name": "stdout"
        }
      ]
    },
    {
      "cell_type": "code",
      "metadata": {
        "id": "jWklNes9VRWE"
      },
      "source": [
        ""
      ],
      "execution_count": null,
      "outputs": []
    }
  ]
}